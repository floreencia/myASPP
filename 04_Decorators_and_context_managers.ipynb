{
 "cells": [
  {
   "cell_type": "markdown",
   "metadata": {},
   "source": [
    "# Decorators and context managers\n",
    "\n",
    "ASPP Reading 2016\n",
    "\n",
    "Zbigniew Jędrzejewski-Szmek\n",
    "\n",
    "https://beta.etherpad.org/p/aspp"
   ]
  },
  {
   "cell_type": "code",
   "execution_count": 85,
   "metadata": {
    "collapsed": true
   },
   "outputs": [],
   "source": [
    "import numpy as np"
   ]
  },
  {
   "cell_type": "code",
   "execution_count": 18,
   "metadata": {
    "collapsed": true
   },
   "outputs": [],
   "source": [
    "def logger(f):\n",
    "    def wrapper(*args, **kwargs):\n",
    "        print(\"function arguments\", *args, **kwargs)\n",
    "        return f(*args, **kwargs)\n",
    "    return wrapper"
   ]
  },
  {
   "cell_type": "code",
   "execution_count": 19,
   "metadata": {
    "collapsed": false
   },
   "outputs": [],
   "source": [
    "@logger\n",
    "def f1(x, y): return x, y"
   ]
  },
  {
   "cell_type": "code",
   "execution_count": 20,
   "metadata": {
    "collapsed": false
   },
   "outputs": [
    {
     "name": "stdout",
     "output_type": "stream",
     "text": [
      "function arguments 1 2\n"
     ]
    },
    {
     "data": {
      "text/plain": [
       "(1, 2)"
      ]
     },
     "execution_count": 20,
     "metadata": {},
     "output_type": "execute_result"
    }
   ],
   "source": [
    "f1(1,2)"
   ]
  },
  {
   "cell_type": "markdown",
   "metadata": {},
   "source": [
    "\n",
    "#### Exercise — wrapping a function to do something on every invocation\n",
    "\n",
    "Write a decorator which prints the arguments\n",
    "and the return value of the wrapped function.\n",
    "\n",
    ">>> @logger\n",
    ">>> def f(x, y):\n",
    "...     return g(x) + g(y)\n",
    "\n",
    ">>> @logger\n",
    ">>> def g(x):\n",
    "...     return 2 * x\n",
    "\n",
    ">>> f(5, 6)\n",
    "f is called with args [5, 6] kwargs {}\n",
    "g is called with args [5] kwargs {}\n",
    "g returns 10\n",
    "g is called with args [6] kwargs {}\n",
    "g returns 12\n",
    "f returns 22\n"
   ]
  },
  {
   "cell_type": "code",
   "execution_count": 29,
   "metadata": {
    "collapsed": true
   },
   "outputs": [],
   "source": [
    "import time\n",
    "\n",
    "def printtime(f):\n",
    "    def wrapper(*args, **kwargs):\n",
    "        begin = time.time()\n",
    "        x = f(*args, **kwargs)\n",
    "        tf = time.time()\n",
    "        print(tf - begin)\n",
    "        return x\n",
    "\n",
    "    return wrapper\n"
   ]
  },
  {
   "cell_type": "code",
   "execution_count": 30,
   "metadata": {
    "collapsed": true
   },
   "outputs": [],
   "source": [
    "@printtime\n",
    "def f1(x, y): return x, y"
   ]
  },
  {
   "cell_type": "code",
   "execution_count": 31,
   "metadata": {
    "collapsed": false
   },
   "outputs": [
    {
     "name": "stdout",
     "output_type": "stream",
     "text": [
      "9.5367431640625e-07\n"
     ]
    },
    {
     "data": {
      "text/plain": [
       "(10, 2)"
      ]
     },
     "execution_count": 31,
     "metadata": {},
     "output_type": "execute_result"
    }
   ],
   "source": [
    "f1(10,2)"
   ]
  },
  {
   "cell_type": "markdown",
   "metadata": {},
   "source": [
    "#### Exercise — keeping state in decorators\n",
    "\n",
    "Write a decorator which prints a warning the first\n",
    "time a given function is executed. This is a modification\n",
    "of deprecate() from previous exercise.\n",
    "\n",
    "@deprecate('do not use')\n",
    "def f(): pass\n",
    "\n",
    ">>> f()\n",
    "f is deprecated, do not use\n",
    ">>> f()\n",
    ">>> f()\n",
    "\n",
    "The trick is how to store the state!"
   ]
  },
  {
   "cell_type": "code",
   "execution_count": null,
   "metadata": {
    "collapsed": true
   },
   "outputs": [],
   "source": [
    "def deprecated(msg):\n",
    "    return logger"
   ]
  },
  {
   "cell_type": "code",
   "execution_count": 74,
   "metadata": {
    "collapsed": false
   },
   "outputs": [],
   "source": [
    "import warnings\n",
    "\n",
    "def deprecate(msg):\n",
    "    def deprecated(func1):\n",
    "        '''\n",
    "        This is a decorator which can be used to mark functions\n",
    "        as deprecated. '''\n",
    "\n",
    "        def wrapper(*args, **kwargs):\n",
    "            print (msg)\n",
    "            warnings.warn(\"Call to deprecated function {}.\".format(func1.__name__),\n",
    "                          category=DeprecationWarning)\n",
    "            return func1(*args, **kwargs)\n",
    "        return wrapper\n",
    "    return deprecated"
   ]
  },
  {
   "cell_type": "code",
   "execution_count": 72,
   "metadata": {
    "collapsed": false
   },
   "outputs": [],
   "source": [
    "@deprecate('DO NOT USE')\n",
    "def f(x): return x"
   ]
  },
  {
   "cell_type": "code",
   "execution_count": 73,
   "metadata": {
    "collapsed": false
   },
   "outputs": [
    {
     "name": "stdout",
     "output_type": "stream",
     "text": [
      "DO NOT USE\n",
      "1\n"
     ]
    },
    {
     "name": "stderr",
     "output_type": "stream",
     "text": [
      "/home/student/anaconda3/lib/python3.5/site-packages/ipykernel/__main__.py:13: DeprecationWarning: Call to deprecated function f.\n"
     ]
    }
   ],
   "source": [
    "print(f(1))"
   ]
  },
  {
   "cell_type": "markdown",
   "metadata": {},
   "source": [
    "## Generators"
   ]
  },
  {
   "cell_type": "markdown",
   "metadata": {},
   "source": [
    "\"\"\"\n",
    "Exercise: listize decorator\n",
    "\n",
    "When a function returns a list of results, we might need\n",
    "to gather those results in a list:\n",
    "\n",
    "def lucky_numbers(n):\n",
    "    ans = []\n",
    "    for i in range(n):\n",
    "        if i % 7 != 0:\n",
    "            continue\n",
    "        if sum(int(digit) for digit in str(i)) % 3 != 0:\n",
    "            continue\n",
    "        ans.append(i)\n",
    "    return ans\n",
    "\n",
    "This looks much nicer when written as a generator.\n",
    "\n",
    "① Convert lucky_numbers to be a generator.\n",
    "\n",
    "② Write a 'listize' decorator which gathers th results from a\n",
    "generator and returns a list and use it to wrap the new lucky_numbers().\n",
    "\n",
    "Subexercise: ③ Write an 'arrayize' decorator which returns the results\n",
    "in a numpy array instead of a list.\n",
    "\n",
    ">>> @listize\n",
    "... def f():\n",
    "...     yield 1\n",
    "...     yield 2\n",
    ">>> f()\n",
    "[1, 2]\n",
    "\"\"\"\n",
    "\n",
    "def listize():\n",
    "    ..."
   ]
  },
  {
   "cell_type": "code",
   "execution_count": 64,
   "metadata": {
    "collapsed": true
   },
   "outputs": [],
   "source": [
    "def lucky_numbers_li(n):\n",
    "    '''generate lucky numbers as a list'''\n",
    "    ans = []\n",
    "    for i in range(n):\n",
    "        if i % 7 != 0:\n",
    "            continue\n",
    "        if sum(int(digit) for digit in str(i)) % 3 != 0:\n",
    "            continue\n",
    "        ans.append(i)\n",
    "    return ans\n",
    "\n",
    "def lucky_numbers(n):\n",
    "    '''generate lucky numbers generator'''\n",
    "\n",
    "    ans = []\n",
    "    for i in range(n):\n",
    "        if i % 7 != 0: # remove all not exactly divisible by 7\n",
    "            continue\n",
    "        if sum(int(digit) for digit in str(i)) % 3 != 0: # rm all elements whose sum of the digits is not div by 3\n",
    "            continue\n",
    "        yield i\n"
   ]
  },
  {
   "cell_type": "code",
   "execution_count": 70,
   "metadata": {
    "collapsed": false
   },
   "outputs": [],
   "source": [
    "x = lucky_numbers(390)\n",
    "for item in x:\n",
    "    print(item)"
   ]
  },
  {
   "cell_type": "code",
   "execution_count": 82,
   "metadata": {
    "collapsed": false
   },
   "outputs": [],
   "source": [
    "def listize(func1):\n",
    "    '''transforms a generator into a list'''\n",
    "    def wrapper(*args, **kwargs):\n",
    "        return list(func1(*args, **kwargs))\n",
    "    return wrapper\n",
    "\n",
    "def arrayize(func1):\n",
    "    '''transforms a list into a numpy array'''\n",
    "    def wrapper(*args, **kwargs):\n",
    "        return np.array((func1(*args, **kwargs)))\n",
    "    return wrapper"
   ]
  },
  {
   "cell_type": "code",
   "execution_count": 88,
   "metadata": {
    "collapsed": false
   },
   "outputs": [],
   "source": [
    "@arrayize\n",
    "@listize\n",
    "def lucky_numbers(n):\n",
    "    ans = []\n",
    "    for i in range(n):\n",
    "        if i % 7 != 0: # remove all not exactly divisible by 7\n",
    "            continue\n",
    "        if sum(int(digit) for digit in str(i)) % 3 != 0: # rm all elements whose sum of the digits is not div by 3\n",
    "            continue\n",
    "        yield i"
   ]
  },
  {
   "cell_type": "code",
   "execution_count": 89,
   "metadata": {
    "collapsed": false
   },
   "outputs": [
    {
     "data": {
      "text/plain": [
       "array([ 0, 21, 42, 63, 84])"
      ]
     },
     "execution_count": 89,
     "metadata": {},
     "output_type": "execute_result"
    }
   ],
   "source": [
    "\n",
    "lucky_numbers(100)"
   ]
  },
  {
   "cell_type": "markdown",
   "metadata": {},
   "source": [
    "## Context managers"
   ]
  },
  {
   "cell_type": "markdown",
   "metadata": {},
   "source": [
    "\n",
    "#### Exercise — printtime context manager\n",
    "\n",
    "We had this:\n",
    ">>> t = time.time()\n",
    ">>> ans = do_calculations()\n",
    ">>> t2 = time.time()\n",
    ">>> print('calculations took {} s'.format(t2-t))\n",
    "calculations took 3.4 s\n",
    "\n",
    "Implement this:\n",
    ">>> with printtime_cm():\n",
    "...     time.sleep(3)\n",
    "calculations took 3.40001 s\n"
   ]
  },
  {
   "cell_type": "code",
   "execution_count": 90,
   "metadata": {
    "collapsed": true
   },
   "outputs": [],
   "source": [
    "import contextlib"
   ]
  },
  {
   "cell_type": "code",
   "execution_count": 96,
   "metadata": {
    "collapsed": true
   },
   "outputs": [],
   "source": [
    "@contextlib.contextmanager\n",
    "def printtime():\n",
    "    t1 = time.time()\n",
    "    yield\n",
    "    t2 = time.time()\n",
    "    print(t2-t1, 's')\n",
    "    "
   ]
  },
  {
   "cell_type": "code",
   "execution_count": 97,
   "metadata": {
    "collapsed": false
   },
   "outputs": [
    {
     "name": "stdout",
     "output_type": "stream",
     "text": [
      "0.005064725875854492 s\n"
     ]
    }
   ],
   "source": [
    "with printtime():\n",
    "    [_ for _ in range(100000)]"
   ]
  },
  {
   "cell_type": "markdown",
   "metadata": {},
   "source": [
    "#### Exercise: matplotlib!\n",
    "\n",
    "Write a context manager which gives you a matplotlib figure object,\n",
    "and either saves the plot to a file or pops it up on screen,\n",
    "depending on a *global* parameter SAVEFIGS (in a real program\n",
    "this parameter would be settable by a commandline options).\n",
    "\n"
   ]
  },
  {
   "cell_type": "code",
   "execution_count": 3,
   "metadata": {
    "collapsed": false
   },
   "outputs": [],
   "source": [
    "import matplotlib.pyplot as plt\n",
    "import contextlib"
   ]
  },
  {
   "cell_type": "code",
   "execution_count": 12,
   "metadata": {
    "collapsed": false
   },
   "outputs": [],
   "source": [
    "@contextlib.contextmanager\n",
    "def save_or_plot():\n",
    "    fig = plt.figure()\n",
    "    yield fig\n",
    "    if SAVEFIGS:\n",
    "        fig.savefig(SAVEFIGS)\n",
    "    else:\n",
    "        plt.show()"
   ]
  },
  {
   "cell_type": "code",
   "execution_count": 13,
   "metadata": {
    "collapsed": true
   },
   "outputs": [],
   "source": [
    "SAVEFIGS = None#'/home/student/Desktop/testplt.png'"
   ]
  },
  {
   "cell_type": "code",
   "execution_count": 14,
   "metadata": {
    "collapsed": false
   },
   "outputs": [],
   "source": [
    "with save_or_plot() as f:\n",
    "    f.add_subplot(111).plot([0, 3, 2, 5])"
   ]
  },
  {
   "cell_type": "code",
   "execution_count": null,
   "metadata": {
    "collapsed": true
   },
   "outputs": [],
   "source": []
  }
 ],
 "metadata": {
  "anaconda-cloud": {},
  "kernelspec": {
   "display_name": "Python [Root]",
   "language": "python",
   "name": "Python [Root]"
  },
  "language_info": {
   "codemirror_mode": {
    "name": "ipython",
    "version": 3
   },
   "file_extension": ".py",
   "mimetype": "text/x-python",
   "name": "python",
   "nbconvert_exporter": "python",
   "pygments_lexer": "ipython3",
   "version": "3.5.2"
  }
 },
 "nbformat": 4,
 "nbformat_minor": 0
}
